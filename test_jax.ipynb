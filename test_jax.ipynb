{
 "cells": [
  {
   "cell_type": "code",
   "execution_count": 1,
   "id": "f61eedf7",
   "metadata": {},
   "outputs": [],
   "source": [
    "import openpi.transforms as _transforms\n"
   ]
  },
  {
   "cell_type": "code",
   "execution_count": 2,
   "id": "5097a61a",
   "metadata": {},
   "outputs": [
    {
     "data": {
      "text/plain": [
       "RepackTransform(structure={'observation/image': 'image', 'observation/wrist_image': 'wrist_image', 'observation/state': 'state', 'actions': 'actions', 'prompt': 'prompt'})"
      ]
     },
     "execution_count": 2,
     "metadata": {},
     "output_type": "execute_result"
    }
   ],
   "source": [
    "_transforms.RepackTransform(\n",
    "    {\n",
    "        \"observation/image\": \"image\",\n",
    "        \"observation/wrist_image\": \"wrist_image\",\n",
    "        \"observation/state\": \"state\",\n",
    "        \"actions\": \"actions\",\n",
    "        \"prompt\": \"prompt\",\n",
    "    }\n",
    ")"
   ]
  },
  {
   "cell_type": "code",
   "execution_count": 3,
   "id": "a995ad6f",
   "metadata": {},
   "outputs": [],
   "source": [
    "data = {\n",
    "    \"observation/image\": \"image\",\n",
    "    \"observation/wrist_image\": \"wrist_image\",\n",
    "    \"observation/state\": \"state\",\n",
    "    \"actions\": \"actions\",\n",
    "    \"prompt\": \"prompt\",\n",
    "}"
   ]
  },
  {
   "cell_type": "code",
   "execution_count": 5,
   "id": "b7b988c5",
   "metadata": {},
   "outputs": [],
   "source": [
    "from flax.traverse_util import flatten_dict\n"
   ]
  },
  {
   "cell_type": "code",
   "execution_count": 10,
   "id": "204ce66a",
   "metadata": {},
   "outputs": [
    {
     "data": {
      "text/plain": [
       "{'observation/image': 'image',\n",
       " 'observation/wrist_image': 'wrist_image',\n",
       " 'observation/state': 'state',\n",
       " 'actions': 'actions',\n",
       " 'prompt': 'prompt'}"
      ]
     },
     "execution_count": 10,
     "metadata": {},
     "output_type": "execute_result"
    }
   ],
   "source": [
    "flattened_data = flatten_dict(data, sep=\"/\")"
   ]
  },
  {
   "cell_type": "code",
   "execution_count": 11,
   "id": "543f108c",
   "metadata": {},
   "outputs": [],
   "source": [
    "import jax"
   ]
  },
  {
   "cell_type": "code",
   "execution_count": 12,
   "id": "5bb9e6c6",
   "metadata": {},
   "outputs": [
    {
     "data": {
      "text/plain": [
       "{'x': 8, 'y': 43}"
      ]
     },
     "execution_count": 12,
     "metadata": {},
     "output_type": "execute_result"
    }
   ],
   "source": [
    "jax.tree.map(lambda x: x + 1, {\"x\": 7, \"y\": 42})"
   ]
  },
  {
   "cell_type": "code",
   "execution_count": null,
   "id": "c1578e54",
   "metadata": {},
   "outputs": [],
   "source": [
    "import numpy as np\n",
    "\n"
   ]
  },
  {
   "cell_type": "code",
   "execution_count": null,
   "id": "bfd2431f",
   "metadata": {},
   "outputs": [],
   "source": [
    "import "
   ]
  }
 ],
 "metadata": {
  "kernelspec": {
   "display_name": "openpi",
   "language": "python",
   "name": "python3"
  },
  "language_info": {
   "codemirror_mode": {
    "name": "ipython",
    "version": 3
   },
   "file_extension": ".py",
   "mimetype": "text/x-python",
   "name": "python",
   "nbconvert_exporter": "python",
   "pygments_lexer": "ipython3",
   "version": "3.11.13"
  }
 },
 "nbformat": 4,
 "nbformat_minor": 5
}
